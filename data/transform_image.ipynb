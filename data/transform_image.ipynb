{
  "nbformat": 4,
  "nbformat_minor": 0,
  "metadata": {
    "colab": {
      "provenance": []
    },
    "kernelspec": {
      "name": "python3",
      "display_name": "Python 3"
    },
    "language_info": {
      "name": "python"
    }
  },
  "cells": [
    {
      "cell_type": "markdown",
      "source": [
        "> [!! Reference !!](https://github.com/nagadomi/nunif/tree/master/waifu2x)\n",
        "\n",
        "\n",
        "\n"
      ],
      "metadata": {
        "id": "WiVqsPMlW1aD"
      }
    },
    {
      "cell_type": "code",
      "source": [
        "!git clone https://github.com/nagadomi/nunif.git"
      ],
      "metadata": {
        "colab": {
          "base_uri": "https://localhost:8080/"
        },
        "id": "VudAHF4BF7eH",
        "outputId": "16f9b5af-17f3-4d10-ee4b-f78e64393a5c"
      },
      "execution_count": 1,
      "outputs": [
        {
          "output_type": "stream",
          "name": "stdout",
          "text": [
            "Cloning into 'nunif'...\n",
            "remote: Enumerating objects: 5905, done.\u001b[K\n",
            "remote: Counting objects: 100% (2158/2158), done.\u001b[K\n",
            "remote: Compressing objects: 100% (646/646), done.\u001b[K\n",
            "remote: Total 5905 (delta 1555), reused 1893 (delta 1486), pack-reused 3747\u001b[K\n",
            "Receiving objects: 100% (5905/5905), 8.15 MiB | 14.59 MiB/s, done.\n",
            "Resolving deltas: 100% (4028/4028), done.\n"
          ]
        }
      ]
    },
    {
      "cell_type": "code",
      "source": [
        "!env PYTHONPATH=.\n",
        "!env | grep PYTHONPATH"
      ],
      "metadata": {
        "id": "8KcjcOH9ON3D"
      },
      "execution_count": null,
      "outputs": []
    },
    {
      "cell_type": "code",
      "source": [
        "import os\n",
        "os.chdir('/content/nunif')"
      ],
      "metadata": {
        "id": "uQ2bBHszQtXY"
      },
      "execution_count": 6,
      "outputs": []
    },
    {
      "cell_type": "code",
      "source": [
        "!pip install av"
      ],
      "metadata": {
        "colab": {
          "base_uri": "https://localhost:8080/"
        },
        "id": "3dnC5WhCTmVy",
        "outputId": "fa964c57-0ea2-42bb-8925-30470a041365"
      },
      "execution_count": 16,
      "outputs": [
        {
          "output_type": "stream",
          "name": "stdout",
          "text": [
            "Collecting av\n",
            "  Downloading av-10.0.0-cp310-cp310-manylinux_2_17_x86_64.manylinux2014_x86_64.whl (31.0 MB)\n",
            "\u001b[2K     \u001b[90m━━━━━━━━━━━━━━━━━━━━━━━━━━━━━━━━━━━━━━━━\u001b[0m \u001b[32m31.0/31.0 MB\u001b[0m \u001b[31m39.4 MB/s\u001b[0m eta \u001b[36m0:00:00\u001b[0m\n",
            "\u001b[?25hInstalling collected packages: av\n",
            "Successfully installed av-10.0.0\n"
          ]
        }
      ]
    },
    {
      "cell_type": "code",
      "execution_count": 9,
      "metadata": {
        "colab": {
          "base_uri": "https://localhost:8080/"
        },
        "id": "Sv4Mfb0hFVLk",
        "outputId": "4472081e-f0dc-4fac-d1b6-a5e8db98be53"
      },
      "outputs": [
        {
          "output_type": "stream",
          "name": "stdout",
          "text": [
            "Waifu2x Models: 100%|████████████████████████| 438M/438M [00:02<00:00, 157MiB/s]\n"
          ]
        }
      ],
      "source": [
        "!python -m waifu2x.download_models"
      ]
    },
    {
      "cell_type": "code",
      "source": [
        "!python -m waifu2x.cli -h"
      ],
      "metadata": {
        "id": "60mJcEzRTj5q"
      },
      "execution_count": null,
      "outputs": []
    },
    {
      "cell_type": "markdown",
      "source": [
        "* !python -m waifu2x.cli -m noise_scale4x -n 3 -i {input_dir} -o {output_dir}\n",
        "\n",
        "* {input_dir}, {output_dir}로 경로 지정하시면 됩니다."
      ],
      "metadata": {
        "id": "RtV7JEJCWP3v"
      }
    },
    {
      "cell_type": "code",
      "source": [
        "!python -m waifu2x.cli -m noise_scale4x -n 3 -i '/content/drive/MyDrive/2023_경진대회/2023_SKT_FLY_AI/황윤희_ultrasound' -o '/content/drive/MyDrive/2023_경진대회/2023_SKT_FLY_AI/transform_images'"
      ],
      "metadata": {
        "colab": {
          "base_uri": "https://localhost:8080/"
        },
        "id": "JyDf7FvbF0a3",
        "outputId": "a4cc0733-a645-4c4f-c420-5e1eab3f4e43"
      },
      "execution_count": 19,
      "outputs": [
        {
          "output_type": "stream",
          "name": "stdout",
          "text": [
            "Images: 100%|█████████████████████████████████████| 8/8 [05:37<00:00, 42.18s/it]\n"
          ]
        }
      ]
    }
  ]
}
