{
 "cells": [
  {
   "cell_type": "code",
   "execution_count": 11,
   "id": "7983070b",
   "metadata": {},
   "outputs": [],
   "source": [
    "import os\n",
    "import sys\n",
    "from selenium import webdriver\n",
    "from selenium.webdriver.common.keys import Keys\n",
    "from selenium.webdriver.common.by import By\n",
    "from selenium.webdriver.support.ui import WebDriverWait\n",
    "from selenium.webdriver.support import expected_conditions as EC\n",
    "from bs4 import BeautifulSoup as soups\n",
    "from time import sleep\n",
    "\n",
    "def search_selenium(search_name, search_path, keyword):\n",
    "    search_url = \"https://www.google.com/search?q=\" + str(search_name) + \"&hl=ko&tbm=isch\"\n",
    "    chrome_options = webdriver.ChromeOptions()\n",
    "    \n",
    "    # ChromeDriver 경로 설정\n",
    "    browser = webdriver.Chrome(service=webdriver.chrome.service.Service(executable_path='C:/Program Files/Google/Chrome/Application/chromedriver.exe'), options=chrome_options)\n",
    "    \n",
    "    browser.get(search_url)\n",
    "\n",
    "    try:\n",
    "        element = WebDriverWait(browser, 10).until(\n",
    "            EC.presence_of_element_located((By.ID, \"islrg\"))\n",
    "        )\n",
    "    except:\n",
    "        print(\"Timeout waiting for the page to load.\")\n",
    "        browser.quit()\n",
    "        return\n",
    "\n",
    "    last_height = browser.execute_script(\"return document.body.scrollHeight\")\n",
    "\n",
    "#     print(\"로드된 이미지 개수 : \", len(browser.find_elements(By.CSS_SELECTOR, \".rg_i.Q4LuWd\")))\n",
    "\n",
    "    search_limit = int(input(\"원하는 이미지 수집 개수 : \"))\n",
    "    image_count = 0\n",
    "    while image_count < search_limit:\n",
    "        browser.execute_script(\"window.scrollTo(0, document.body.scrollHeight);\")\n",
    "        sleep(2)\n",
    "        images = browser.find_elements(By.CSS_SELECTOR, \".rg_i.Q4LuWd\")\n",
    "        for image in images:\n",
    "            try:\n",
    "                image.click()\n",
    "                sleep(1)\n",
    "                # This part selects the larger image if available.\n",
    "                try:\n",
    "                    actual_image = browser.find_element(By.CSS_SELECTOR, \".n3VNCb\")\n",
    "                except:\n",
    "                    actual_image = image\n",
    "                \n",
    "                # 페이지 제목\n",
    "                soup = soups(browser.page_source, \"html.parser\")\n",
    "                title = soup.find(\"div\", class_=\"tvh9oe BIB1wf\").text\n",
    "                \n",
    "                # 특정 단어가 포함된 페이지면 크롤링 / 띄어쓰기 해서 (3D 아기) 라고 치면 각각 찾음\n",
    "                words = keyword.split()\n",
    "                for word in words:\n",
    "                    if word in title:\n",
    "                        image_filename = os.path.join(search_path, f\"{image_count}.jpg\")\n",
    "                        image_count += 1\n",
    "                    if image_count >= search_limit:\n",
    "                        break\n",
    "            except:\n",
    "                continue\n",
    "        last_height = browser.execute_script(\"return document.body.scrollHeight\")\n",
    "        if browser.execute_script(\"return document.body.scrollHeight\") == last_height:\n",
    "            break\n",
    "    browser.quit()"
   ]
  },
  {
   "cell_type": "code",
   "execution_count": 12,
   "id": "23dca363",
   "metadata": {},
   "outputs": [
    {
     "name": "stdout",
     "output_type": "stream",
     "text": [
      "검색하고 싶은 키워드 : 3D fetus\n",
      "특정단어 :ultrasound fetal\n",
      "저장할 폴더명 입력 : 태아데이터\n",
      "원하는 이미지 수집 개수 : 100\n"
     ]
    }
   ],
   "source": [
    "search_name = input(\"검색하고 싶은 키워드 : \")\n",
    "keyword_test = input('특정단어 :')\n",
    "crawling_path = input(\"저장할 폴더명 입력 : \")\n",
    "search_path = \"C:/Users/johan/Desktop/\" + crawling_path # 폴더 경로 설정\n",
    "try:\n",
    "    # 중복되는 폴더 명이 없다면 생성\n",
    "    if not os.path.exists(search_path):\n",
    "        os.makedirs(search_path)\n",
    "    # 중복된다면 문구 출력 후 프로그램 종료\n",
    "    else:\n",
    "        print('이전에 같은 [검색어, 이미지 수]로 다운로드한 폴더가 존재합니다.')\n",
    "        sys.exit(0)\n",
    "except OSError:\n",
    "    print('os error')\n",
    "    sys.exit(0)\n",
    "\n",
    "search_selenium(search_name, search_path, keyword_test)"
   ]
  }
 ],
 "metadata": {
  "kernelspec": {
   "display_name": "Python 3 (ipykernel)",
   "language": "python",
   "name": "python3"
  },
  "language_info": {
   "codemirror_mode": {
    "name": "ipython",
    "version": 3
   },
   "file_extension": ".py",
   "mimetype": "text/x-python",
   "name": "python",
   "nbconvert_exporter": "python",
   "pygments_lexer": "ipython3",
   "version": "3.11.4"
  }
 },
 "nbformat": 4,
 "nbformat_minor": 5
}
