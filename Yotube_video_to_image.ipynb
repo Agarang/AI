{
 "cells": [
  {
   "cell_type": "code",
   "execution_count": 64,
   "id": "86fb1c16",
   "metadata": {},
   "outputs": [],
   "source": [
    "import os\n",
    "import cv2\n",
    "import ffmpeg\n",
    "from pytube import YouTube\n",
    "\n",
    "def download_youtube_video(video_url, output_path):\n",
    "    yt = YouTube(video_url)\n",
    "    ys = yt.streams.filter(file_extension='mp4', res='720p').first()\n",
    "    ys.download(output_path)\n",
    "    print(ys.download(output_path))\n",
    "    return ys.download(output_path)\n",
    "    \n",
    "def extract_frames(video_path, output_folder):\n",
    "    try:\n",
    "        ffmpeg.input(video_path).output(output_folder + '/frame-%04d.jpg').run()\n",
    "    except ffmpeg.Error as e:\n",
    "        print(f\"FFmpeg error: {e}\")\n",
    "        return\n",
    "    print(\"Frames extracted successfully.\")"
   ]
  },
  {
   "cell_type": "code",
   "execution_count": 65,
   "id": "2e0bb361",
   "metadata": {},
   "outputs": [
    {
     "name": "stdout",
     "output_type": "stream",
     "text": [
      "D:/프로젝트_데이터/test\\What is 4D ultrasound scan.mp4\n",
      "Frames extracted successfully.\n"
     ]
    }
   ],
   "source": [
    "output_folder = \"D:/프로젝트_데이터/test\"\n",
    "youtube_url = \"https://www.youtube.com/watch?v=OBV7i9zRAto\"\n",
    "\n",
    "# 영상 이미지 저장\n",
    "extract_frames(download_youtube_video(youtube_url, output_folder), output_folder)"
   ]
  }
 ],
 "metadata": {
  "kernelspec": {
   "display_name": "Python 3 (ipykernel)",
   "language": "python",
   "name": "python3"
  },
  "language_info": {
   "codemirror_mode": {
    "name": "ipython",
    "version": 3
   },
   "file_extension": ".py",
   "mimetype": "text/x-python",
   "name": "python",
   "nbconvert_exporter": "python",
   "pygments_lexer": "ipython3",
   "version": "3.9.12"
  }
 },
 "nbformat": 4,
 "nbformat_minor": 5
}
